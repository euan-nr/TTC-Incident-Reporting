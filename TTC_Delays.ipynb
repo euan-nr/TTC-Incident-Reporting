{
  "nbformat": 4,
  "nbformat_minor": 0,
  "metadata": {
    "colab": {
      "provenance": [],
      "mount_file_id": "1R0M17YZCSRd5JFgqy-654-nKk1dkuEVh",
      "authorship_tag": "ABX9TyOGaUaqgR5VGNtEXoWvVSQ0",
      "include_colab_link": true
    },
    "kernelspec": {
      "name": "python3",
      "display_name": "Python 3"
    },
    "language_info": {
      "name": "python"
    }
  },
  "cells": [
    {
      "cell_type": "markdown",
      "metadata": {
        "id": "view-in-github",
        "colab_type": "text"
      },
      "source": [
        "<a href=\"https://colab.research.google.com/github/euan-nr/TTC-Incident-Reporting/blob/main/TTC_Delays.ipynb\" target=\"_parent\"><img src=\"https://colab.research.google.com/assets/colab-badge.svg\" alt=\"Open In Colab\"/></a>"
      ]
    },
    {
      "cell_type": "code",
      "execution_count": 1,
      "metadata": {
        "id": "d39DRr8gVVF_"
      },
      "outputs": [],
      "source": [
        "import pandas as pd\n",
        "import matplotlib.pyplot as plt\n",
        "import os"
      ]
    },
    {
      "cell_type": "code",
      "source": [
        "from google.colab import auth\n",
        "auth.authenticate_user()\n",
        "\n",
        "import gspread\n",
        "from google.auth import default\n",
        "creds, _ = default()\n",
        "\n",
        "gc = gspread.authorize(creds)"
      ],
      "metadata": {
        "id": "awbDdQEyY7Xg"
      },
      "execution_count": 2,
      "outputs": []
    },
    {
      "cell_type": "code",
      "source": [
        "#Pull Delay Codes\n",
        "codes_sub=gc.open_by_url(\"https://docs.google.com/spreadsheets/d/1h5eQZ2vosuBK7w4nUGVBtkdeU7jaPqtRyk6CbUp1oxs/edit#gid=1925460578\").sheet1\n",
        "values = codes_sub.get_all_values()\n",
        "codes_sub = pd.DataFrame(values[1:],columns=values[0])\n",
        "codes_srt=gc.open_by_url(\"https://docs.google.com/spreadsheets/d/12VERUjC0vH_IXXMjwPE5i3aPZjOXhONBvZtpvvRxXxU/edit#gid=2004182443\").sheet1\n",
        "values = codes_srt.get_all_values()\n",
        "codes_srt = pd.DataFrame(values[1:],columns=values[0])"
      ],
      "metadata": {
        "id": "s423QbNSbTfM"
      },
      "execution_count": 3,
      "outputs": []
    },
    {
      "cell_type": "code",
      "source": [
        "ttc2018 = gc.open_by_url('https://docs.google.com/spreadsheets/d/10TuyNMtIPxV-f6ipie52ZSH_S0Q3u-vbZcowTvbjriw/edit#gid=608361424')\n",
        "ttc2019 = gc.open_by_url('https://docs.google.com/spreadsheets/d/1niNiXHoWzEnJQ6FMxWcqybMUy9SLwn5p9exX6XM3EbI/edit#gid=1588468639')\n",
        "ttc2020 = gc.open_by_url('https://docs.google.com/spreadsheets/d/1HU5Ydhddg9FbFIWOgd7rbd_ybWfE2mWjYF5H8NesVGM/edit#gid=709672757')\n",
        "ttc2021 = gc.open_by_url('https://docs.google.com/spreadsheets/d/15VCs-DbYX5LRy3Pdq_XOZViqpHXFum5wwwNtOxPT05I/edit#gid=608057869')\n",
        "ttc2022 = gc.open_by_url('https://docs.google.com/spreadsheets/d/1cmAnAFmol51KvdVYvXWElBKGwpU8fUZtBIvTJxx5rmU/edit#gid=1839550723')\n",
        "ttc2023 = gc.open_by_url('https://docs.google.com/spreadsheets/d/1aa2Is_pqP6hcDYZUZPenhS8wSVV17RjAa6hzlALHbJ4/edit#gid=1800918964')\n",
        "listChange = [ttc2018,ttc2019,ttc2020,ttc2021,ttc2022,ttc2023]"
      ],
      "metadata": {
        "id": "s5C42w3DZYgJ"
      },
      "execution_count": 4,
      "outputs": []
    },
    {
      "cell_type": "code",
      "source": [
        "#Create combined DataFrame for all incidents 2018-2023\n",
        "listFrames=[]\n",
        "for wb in listChange:\n",
        "  for sheets in wb.worksheets():\n",
        "    rows = sheets.get_all_values()\n",
        "    df=pd.DataFrame.from_records(rows[1:],columns=rows[0])\n",
        "    listFrames.append(df)\n",
        "df=pd.concat(listFrames,ignore_index=True)"
      ],
      "metadata": {
        "id": "VVP_dV7Daea3"
      },
      "execution_count": 63,
      "outputs": []
    },
    {
      "cell_type": "code",
      "source": [
        "#Use 2022 Data only - TEST BLOCK\n",
        "ttc2022 = gc.open_by_url('https://docs.google.com/spreadsheets/d/1cmAnAFmol51KvdVYvXWElBKGwpU8fUZtBIvTJxx5rmU/edit#gid=1839550723').sheet1\n",
        "values=ttc2022.get_all_values()\n",
        "df=pd.DataFrame(values[1:],columns=values[0])"
      ],
      "metadata": {
        "id": "xBzZhlC8iJAv"
      },
      "execution_count": null,
      "outputs": []
    },
    {
      "cell_type": "code",
      "source": [
        "df['Datetime']=pd.to_datetime(df['Date']+' '+df['Time'])\n",
        "cols = df.columns.tolist()  # Get the list of column names\n",
        "cols = ['Datetime'] + cols[:-1]  # Move 'Datetime' to the first position\n",
        "df = df[cols]  # Reorder the columns in the DataFrame\n",
        "df['Day']=df['Day'].astype(str)\n",
        "df['Station']=df['Station'].astype(str)\n",
        "df['Code']=df['Code'].astype(str)\n",
        "df['Min Delay']=df['Min Delay'].astype(int)\n",
        "df['Min Gap']=df['Min Gap'].astype(int)\n",
        "df['Bound']=df['Bound'].astype(str)\n",
        "df['Line']=df['Line'].astype(str)\n",
        "df['Vehicle']=df['Vehicle'].astype(str)"
      ],
      "metadata": {
        "id": "esI2YOfcpfdN"
      },
      "execution_count": 64,
      "outputs": []
    },
    {
      "cell_type": "code",
      "source": [
        "#Filter for all incidents which caused a delay\n",
        "df=df.drop(['Date','Time'],axis=1)\n",
        "df=df[df['Min Delay']>0]\n",
        "df_test=df"
      ],
      "metadata": {
        "id": "LPgBRr6qrBoE"
      },
      "execution_count": 65,
      "outputs": []
    },
    {
      "cell_type": "code",
      "source": [
        "df.dtypes"
      ],
      "metadata": {
        "id": "vL9lA6AMoslL"
      },
      "execution_count": null,
      "outputs": []
    },
    {
      "cell_type": "code",
      "source": [
        "df_test"
      ],
      "metadata": {
        "id": "SvLivORqUY49"
      },
      "execution_count": null,
      "outputs": []
    },
    {
      "cell_type": "code",
      "source": [
        "#Check all years are recorded\n",
        "year_list=df[\"Datetime\"].dt.year.unique()\n",
        "year_list"
      ],
      "metadata": {
        "id": "AS80Irkdn-mf"
      },
      "execution_count": null,
      "outputs": []
    },
    {
      "cell_type": "code",
      "source": [
        "#UNFILTERED STATIONS do not run\n",
        "station_list2=df_test[\"Station\"].unique().tolist()\n",
        "station_counts2=df_test['Station'].value_counts().sort_index()\n",
        "for station2, count2 in station_counts2.items():\n",
        "    print(station2, count2)"
      ],
      "metadata": {
        "id": "2r4NH6elEqQY"
      },
      "execution_count": null,
      "outputs": []
    },
    {
      "cell_type": "code",
      "source": [
        "#Cleaning Station Names\n",
        "#Fix spelling errors in Station column\n",
        "df['Station'] = df['Station'].str.replace(r'\\s*STATION.*', ' STATION', regex=True) #Remove words after STATION\n",
        "df['Station'] = df['Station'].str.replace(\"ST\\.\", \"ST\", regex=True) #Replace ST. with ST\n",
        "df['Station'] = df['Station'].replace({\n",
        "    'BATHUSRT STATION': 'BATHURST STATION',\n",
        "    'BESSARIAN STATION': 'BESSARION STATION',\n",
        "    'SATION': 'STATION',\n",
        "    'BUID-UP':'BUILD-UP',\n",
        "    'BUILD UP':'BUILD-UP',\n",
        "    'BUILDD-UP':'BUILD-UP',\n",
        "    'BUIDUP':'BUILD-UP',\n",
        "    'DOWNVIEW PARK STATION':'DOWNSVIEW PARK STATION',\n",
        "    'STAT' : 'STATION',\n",
        "    'STATIO':'STATION',\n",
        "    ' STATION' : 'STATION',\n",
        "    'SHEPPARD YONGE STATION':'SHEPPARD-YONGE STATION',\n",
        "    'SHEPPARD- YONGE STATION':'SHEPPARD-YONGE STATION',\n",
        "    'YONGE SHEP STATION': 'SHEPPARD-YONGE STATION',\n",
        "    'YONGE SHP STATION': 'SHEPPARD-YONGE STATION',\n",
        "    'GLENCARIN STATION':'GLENCAIRN STATION',\n",
        "    'VMC STATION' : 'VAUGHAN MC STATION',\n",
        "    'FICNH STATION' : 'FINCH STATION',\n",
        "    'LAWERENCE STATION':'LAWRENCE STATION',\n",
        "    'MC COWAN STATION' : 'MCCOWAN STATION',\n",
        "    'BLOOR STATION' : 'BLOOR-YONGE STATION',\n",
        "    'YONGE STATION' : 'BLOOR-YONGE STATION',\n",
        "    'SHEPHARD WEST STATION' : 'SHEPPARD WEST STATION',\n",
        "    'SHEPPHARD WEST STATION' : 'SHEPPARD WEST STATION',\n",
        "    'BAY LOWER STATION':'BAY STATION',\n",
        "    'EGLINTON PSUDO STATION':'EGLINTON STATION',\n",
        "    'KENNEDY SRT STATION':'KENNEDY STATION',\n",
        "    'PIONEER VILLAGE STATIO': 'PIONEER VILLAGE STATION',\n",
        "    'SPADINA  STATION':'SPADINA STATION',\n",
        "    'EGLINGTON STATION':'EGLINTON STATION',\n",
        "    'YORK UNIVERSITY STATIO':'YORK UNIVERSITY STATION',\n",
        "    'SCARBOROUGH CTR STATIO':'SCARBOROUGH CENTRAL STATION',\n",
        "    'SCARB CTR STATION':'SCARBOROUGH CENTRAL STATION',\n",
        "    'SCARBOROUGH CENTRE STA':'SCARBOROUGH CENTRAL STATION',\n",
        "    'YONGE  STATION':'BLOOR-YONGE STATION',\n",
        "    'ST GEORGE  STATION':'ST GEORGE STATION'\n",
        "})\n",
        "df['Station'] = df['Station'].str.replace(\"QUEENS\", \"QUEEN'S\", regex=False) #Correct naming of Queen's Park\n",
        "df['Station'] = df['Station'].str.replace(r\"\\b\\w+\\sTO\\s(.+?\\s)?STATION\\b\", \"STATION\", regex=True) #Removing \"TO X\" before station\n",
        "df['Station'] = df['Station'].str.replace(r\"\\b(YU|BD|YUS)\\b\", \"\", regex=True) #Remove the line codes - redundant\n",
        "df['Station'] = df['Station'].str.replace('SHEPPARD STATION','SHEPPARD-YONGE STATION')"
      ],
      "metadata": {
        "id": "kAT5S5j4pM9M"
      },
      "execution_count": 70,
      "outputs": []
    },
    {
      "cell_type": "code",
      "source": [
        "#Filter for all incidents which occured at a station\n",
        "df=df[df['Station'].str.contains('STATION',case=False)]\n",
        "df=df.drop(df[df['Station']=='STATION'].index)"
      ],
      "metadata": {
        "id": "b2ehFtFmDjZM"
      },
      "execution_count": 71,
      "outputs": []
    },
    {
      "cell_type": "code",
      "source": [
        "def stationcounter(df):\n",
        "  station_list=df[\"Station\"].unique().tolist()\n",
        "  station_counts=df['Station'].value_counts().sort_index()\n",
        "  for station, count in station_counts.items():\n",
        "      print(station, count)\n",
        "stationcounter(df)"
      ],
      "metadata": {
        "id": "waDnDwN7rqPW",
        "colab": {
          "base_uri": "https://localhost:8080/"
        },
        "outputId": "573e1257-116f-421d-b109-3e199713d67d"
      },
      "execution_count": 124,
      "outputs": [
        {
          "output_type": "stream",
          "name": "stdout",
          "text": [
            "BATHURST STATION 304\n",
            "BAY STATION 276\n",
            "BAYVIEW STATION 182\n",
            "BESSARION STATION 140\n",
            "BLOOR-YONGE STATION 1639\n",
            "BROADVIEW STATION 421\n",
            "CASTLE FRANK STATION 302\n",
            "CHESTER STATION 270\n",
            "CHRISTIE STATION 317\n",
            "COLLEGE STATION 430\n",
            "COXWELL STATION 963\n",
            "DAVISVILLE STATION 817\n",
            "DON MILLS STATION 342\n",
            "DONLANDS STATION 503\n",
            "DOWNSVIEW PARK STATION 207\n",
            "DUFFERIN STATION 292\n",
            "DUNDAS STATION 480\n",
            "DUNDAS WEST STATION 347\n",
            "DUPONT STATION 406\n",
            "EGLINTON STATION 1560\n",
            "EGLINTON WEST STATION 339\n",
            "ELLESMERE STATION 141\n",
            "FINCH STATION 1924\n",
            "FINCH WEST STATION 286\n",
            "GLENCAIRN STATION 227\n",
            "GREENWOOD STATION 791\n",
            "HIGH PARK STATION 213\n",
            "HIGHWAY 407 STATION 333\n",
            "ISLINGTON STATION 420\n",
            "JANE STATION 218\n",
            "KEELE STATION 567\n",
            "KENNEDY STATION 2168\n",
            "KING STATION 244\n",
            "KIPLING STATION 1348\n",
            "LANSDOWNE STATION 224\n",
            "LAWRENCE EAST STATION 269\n",
            "LAWRENCE STATION 536\n",
            "LAWRENCE WEST STATION 341\n",
            "LESLIE STATION 203\n",
            "MAIN STREET STATION 322\n",
            "MCCOWAN STATION 941\n",
            "MIDLAND STATION 164\n",
            "MUSEUM STATION 310\n",
            "NORTH YORK CTR STATION 274\n",
            "OLD MILL STATION 258\n",
            "OSGOODE STATION 215\n",
            "OSSINGTON STATION 382\n",
            "PAPE STATION 394\n",
            "PIONEER VILLAGE STATION 190\n",
            "QUEEN STATION 443\n",
            "QUEEN'S PARK STATION 210\n",
            "ROSEDALE STATION 580\n",
            "ROYAL YORK STATION 268\n",
            "RUNNYMEDE STATION 196\n",
            "SCARBOROUGH CENTRAL STATION 230\n",
            "SHEPPARD WEST STATION 1125\n",
            "SHEPPARD-YONGE STATION 887\n",
            "SHERBOURNE STATION 277\n",
            "SPADINA STATION 814\n",
            "ST ANDREW STATION 241\n",
            "ST CLAIR STATION 617\n",
            "ST CLAIR WEST STATION 582\n",
            "ST GEORGE STATION 1339\n",
            "ST PATRICK STATION 292\n",
            "SUMMERHILL STATION 345\n",
            "UNION STATION 515\n",
            "VAUGHAN MC STATION 2360\n",
            "VICTORIA PARK STATION 537\n",
            "WARDEN STATION 743\n",
            "WELLESLEY STATION 435\n",
            "WILSON STATION 1367\n",
            "WOODBINE STATION 266\n",
            "YORK MILLS STATION 549\n",
            "YORK UNIVERSITY STATION 147\n",
            "YORKDALE STATION 351\n"
          ]
        }
      ]
    },
    {
      "cell_type": "code",
      "source": [
        "print('Number of Stations:',len(station_list))"
      ],
      "metadata": {
        "id": "6oZQXl4vlpm1",
        "colab": {
          "base_uri": "https://localhost:8080/"
        },
        "outputId": "3faaf2e0-8ac4-453f-e913-2b2c1b56dba4"
      },
      "execution_count": 125,
      "outputs": [
        {
          "output_type": "stream",
          "name": "stdout",
          "text": [
            "Number of Stations: 75\n"
          ]
        }
      ]
    },
    {
      "cell_type": "code",
      "source": [
        "#Checking Codes\n",
        "code_list=df[\"Code\"].unique().tolist()\n",
        "code_counts=df['Code'].value_counts().sort_index()\n",
        "for code, count in code_counts.items():\n",
        "    print(code, count)"
      ],
      "metadata": {
        "id": "W1BVg0bJU5jj"
      },
      "execution_count": null,
      "outputs": []
    },
    {
      "cell_type": "markdown",
      "source": [
        "Looking at the code source files, we can extrapolate the following key:\n",
        "\n",
        "\n",
        "*   Code starts with E,M, - Equipment/ misc/ mechanical issue\n",
        "*   P - Issue not on the line (Logic, elevator, station etc)\n",
        "*   S - crime/ suspicious activity\n",
        "*   T - Transport or operator related\n",
        "\n",
        "\n",
        "\n"
      ],
      "metadata": {
        "id": "QHp-nylcu_uc"
      }
    },
    {
      "cell_type": "code",
      "source": [
        "print(\"Number of Codes:\",len(code_list))"
      ],
      "metadata": {
        "id": "Q70Oad2WbmyX"
      },
      "execution_count": null,
      "outputs": []
    },
    {
      "cell_type": "code",
      "source": [
        "#Here we will filter the df for specific types of delays using the key/code guidelines\n",
        "#coded_df=df\n",
        "#coded_df=coded_df[coded_df['Code'].str.startswith('S')]"
      ],
      "metadata": {
        "id": "2UsEkLHAv1Oj"
      },
      "execution_count": null,
      "outputs": []
    },
    {
      "cell_type": "code",
      "source": [],
      "metadata": {
        "id": "ur2rbtl7cLF7",
        "colab": {
          "base_uri": "https://localhost:8080/",
          "height": 363
        },
        "outputId": "c7dc4de7-f097-4c7d-ab26-b63d59fcf89e"
      },
      "execution_count": 106,
      "outputs": [
        {
          "output_type": "execute_result",
          "data": {
            "text/plain": [
              "                 Station  Count\n",
              "0     VAUGHAN MC STATION   2360\n",
              "1        KENNEDY STATION   2168\n",
              "2          FINCH STATION   1924\n",
              "3    BLOOR-YONGE STATION   1639\n",
              "4       EGLINTON STATION   1560\n",
              "5         WILSON STATION   1367\n",
              "6        KIPLING STATION   1348\n",
              "7      ST GEORGE STATION   1339\n",
              "8  SHEPPARD WEST STATION   1125\n",
              "9        COXWELL STATION    963"
            ],
            "text/html": [
              "\n",
              "  <div id=\"df-414bb7f3-101c-494a-b292-a3ade4b2ba9b\">\n",
              "    <div class=\"colab-df-container\">\n",
              "      <div>\n",
              "<style scoped>\n",
              "    .dataframe tbody tr th:only-of-type {\n",
              "        vertical-align: middle;\n",
              "    }\n",
              "\n",
              "    .dataframe tbody tr th {\n",
              "        vertical-align: top;\n",
              "    }\n",
              "\n",
              "    .dataframe thead th {\n",
              "        text-align: right;\n",
              "    }\n",
              "</style>\n",
              "<table border=\"1\" class=\"dataframe\">\n",
              "  <thead>\n",
              "    <tr style=\"text-align: right;\">\n",
              "      <th></th>\n",
              "      <th>Station</th>\n",
              "      <th>Count</th>\n",
              "    </tr>\n",
              "  </thead>\n",
              "  <tbody>\n",
              "    <tr>\n",
              "      <th>0</th>\n",
              "      <td>VAUGHAN MC STATION</td>\n",
              "      <td>2360</td>\n",
              "    </tr>\n",
              "    <tr>\n",
              "      <th>1</th>\n",
              "      <td>KENNEDY STATION</td>\n",
              "      <td>2168</td>\n",
              "    </tr>\n",
              "    <tr>\n",
              "      <th>2</th>\n",
              "      <td>FINCH STATION</td>\n",
              "      <td>1924</td>\n",
              "    </tr>\n",
              "    <tr>\n",
              "      <th>3</th>\n",
              "      <td>BLOOR-YONGE STATION</td>\n",
              "      <td>1639</td>\n",
              "    </tr>\n",
              "    <tr>\n",
              "      <th>4</th>\n",
              "      <td>EGLINTON STATION</td>\n",
              "      <td>1560</td>\n",
              "    </tr>\n",
              "    <tr>\n",
              "      <th>5</th>\n",
              "      <td>WILSON STATION</td>\n",
              "      <td>1367</td>\n",
              "    </tr>\n",
              "    <tr>\n",
              "      <th>6</th>\n",
              "      <td>KIPLING STATION</td>\n",
              "      <td>1348</td>\n",
              "    </tr>\n",
              "    <tr>\n",
              "      <th>7</th>\n",
              "      <td>ST GEORGE STATION</td>\n",
              "      <td>1339</td>\n",
              "    </tr>\n",
              "    <tr>\n",
              "      <th>8</th>\n",
              "      <td>SHEPPARD WEST STATION</td>\n",
              "      <td>1125</td>\n",
              "    </tr>\n",
              "    <tr>\n",
              "      <th>9</th>\n",
              "      <td>COXWELL STATION</td>\n",
              "      <td>963</td>\n",
              "    </tr>\n",
              "  </tbody>\n",
              "</table>\n",
              "</div>\n",
              "      <button class=\"colab-df-convert\" onclick=\"convertToInteractive('df-414bb7f3-101c-494a-b292-a3ade4b2ba9b')\"\n",
              "              title=\"Convert this dataframe to an interactive table.\"\n",
              "              style=\"display:none;\">\n",
              "        \n",
              "  <svg xmlns=\"http://www.w3.org/2000/svg\" height=\"24px\"viewBox=\"0 0 24 24\"\n",
              "       width=\"24px\">\n",
              "    <path d=\"M0 0h24v24H0V0z\" fill=\"none\"/>\n",
              "    <path d=\"M18.56 5.44l.94 2.06.94-2.06 2.06-.94-2.06-.94-.94-2.06-.94 2.06-2.06.94zm-11 1L8.5 8.5l.94-2.06 2.06-.94-2.06-.94L8.5 2.5l-.94 2.06-2.06.94zm10 10l.94 2.06.94-2.06 2.06-.94-2.06-.94-.94-2.06-.94 2.06-2.06.94z\"/><path d=\"M17.41 7.96l-1.37-1.37c-.4-.4-.92-.59-1.43-.59-.52 0-1.04.2-1.43.59L10.3 9.45l-7.72 7.72c-.78.78-.78 2.05 0 2.83L4 21.41c.39.39.9.59 1.41.59.51 0 1.02-.2 1.41-.59l7.78-7.78 2.81-2.81c.8-.78.8-2.07 0-2.86zM5.41 20L4 18.59l7.72-7.72 1.47 1.35L5.41 20z\"/>\n",
              "  </svg>\n",
              "      </button>\n",
              "      \n",
              "  <style>\n",
              "    .colab-df-container {\n",
              "      display:flex;\n",
              "      flex-wrap:wrap;\n",
              "      gap: 12px;\n",
              "    }\n",
              "\n",
              "    .colab-df-convert {\n",
              "      background-color: #E8F0FE;\n",
              "      border: none;\n",
              "      border-radius: 50%;\n",
              "      cursor: pointer;\n",
              "      display: none;\n",
              "      fill: #1967D2;\n",
              "      height: 32px;\n",
              "      padding: 0 0 0 0;\n",
              "      width: 32px;\n",
              "    }\n",
              "\n",
              "    .colab-df-convert:hover {\n",
              "      background-color: #E2EBFA;\n",
              "      box-shadow: 0px 1px 2px rgba(60, 64, 67, 0.3), 0px 1px 3px 1px rgba(60, 64, 67, 0.15);\n",
              "      fill: #174EA6;\n",
              "    }\n",
              "\n",
              "    [theme=dark] .colab-df-convert {\n",
              "      background-color: #3B4455;\n",
              "      fill: #D2E3FC;\n",
              "    }\n",
              "\n",
              "    [theme=dark] .colab-df-convert:hover {\n",
              "      background-color: #434B5C;\n",
              "      box-shadow: 0px 1px 3px 1px rgba(0, 0, 0, 0.15);\n",
              "      filter: drop-shadow(0px 1px 2px rgba(0, 0, 0, 0.3));\n",
              "      fill: #FFFFFF;\n",
              "    }\n",
              "  </style>\n",
              "\n",
              "      <script>\n",
              "        const buttonEl =\n",
              "          document.querySelector('#df-414bb7f3-101c-494a-b292-a3ade4b2ba9b button.colab-df-convert');\n",
              "        buttonEl.style.display =\n",
              "          google.colab.kernel.accessAllowed ? 'block' : 'none';\n",
              "\n",
              "        async function convertToInteractive(key) {\n",
              "          const element = document.querySelector('#df-414bb7f3-101c-494a-b292-a3ade4b2ba9b');\n",
              "          const dataTable =\n",
              "            await google.colab.kernel.invokeFunction('convertToInteractive',\n",
              "                                                     [key], {});\n",
              "          if (!dataTable) return;\n",
              "\n",
              "          const docLinkHtml = 'Like what you see? Visit the ' +\n",
              "            '<a target=\"_blank\" href=https://colab.research.google.com/notebooks/data_table.ipynb>data table notebook</a>'\n",
              "            + ' to learn more about interactive tables.';\n",
              "          element.innerHTML = '';\n",
              "          dataTable['output_type'] = 'display_data';\n",
              "          await google.colab.output.renderOutput(dataTable, element);\n",
              "          const docLink = document.createElement('div');\n",
              "          docLink.innerHTML = docLinkHtml;\n",
              "          element.appendChild(docLink);\n",
              "        }\n",
              "      </script>\n",
              "    </div>\n",
              "  </div>\n",
              "  "
            ]
          },
          "metadata": {},
          "execution_count": 106
        }
      ]
    },
    {
      "cell_type": "code",
      "source": [
        "def stationdelays(df,title):\n",
        "  station_list=df[\"Station\"].unique().tolist()\n",
        "  station_counts=df['Station'].value_counts().sort_index()\n",
        "  sort_station=station_counts.sort_values(ascending=False).head(10) #sort top 10 delay times\n",
        "  df_stationcounts = pd.DataFrame({'Station': sort_station.index, 'Count': sort_station.values})\n",
        "  plt.bar(df_stationcounts['Station'], df_stationcounts['Count'])\n",
        "  plt.xlabel('Station')\n",
        "  plt.ylabel('Delays')\n",
        "  plt.title(title)\n",
        "  plt.xticks(rotation=90)\n",
        "  plt.show()\n",
        "stationdelays(df,'Top 10 Stations with Most Delays')"
      ],
      "metadata": {
        "colab": {
          "base_uri": "https://localhost:8080/",
          "height": 638
        },
        "id": "K6hBUDqChxR0",
        "outputId": "7a575d05-a8b3-4a86-c1ad-700ecdcbf325"
      },
      "execution_count": 126,
      "outputs": [
        {
          "output_type": "display_data",
          "data": {
            "text/plain": [
              "<Figure size 640x480 with 1 Axes>"
            ],
            "image/png": "[encoded data removed]"
          },
          "metadata": {}
        }
      ]
    },
    {
      "cell_type": "code",
      "source": [
        "#Total delay time over stations\n",
        "station_delay_sum = df.groupby('Station')['Min Delay'].sum().reset_index()\n",
        "station_delay_sum=station_delay_sum.rename(columns={'Min Delay':'Total Min Delay'})\n",
        "station_delay_sum=station_delay_sum.sort_values(by='Total Min Delay',ascending=False).head(75)\n",
        "print(station_delay_sum)"
      ],
      "metadata": {
        "colab": {
          "base_uri": "https://localhost:8080/"
        },
        "id": "hSE-gwGDi8Su",
        "outputId": "ae61ed5e-019a-4c09-8e74-3fca104904c0"
      },
      "execution_count": 76,
      "outputs": [
        {
          "output_type": "stream",
          "name": "stdout",
          "text": [
            "                    Station  Total Min Delay\n",
            "31          KENNEDY STATION            15641\n",
            "4       BLOOR-YONGE STATION            12675\n",
            "66       VAUGHAN MC STATION            10541\n",
            "62        ST GEORGE STATION             9760\n",
            "19         EGLINTON STATION             9465\n",
            "..                      ...              ...\n",
            "38           LESLIE STATION             1514\n",
            "48  PIONEER VILLAGE STATION             1416\n",
            "14   DOWNSVIEW PARK STATION             1372\n",
            "3         BESSARION STATION             1033\n",
            "73  YORK UNIVERSITY STATION              903\n",
            "\n",
            "[75 rows x 2 columns]\n"
          ]
        }
      ]
    },
    {
      "cell_type": "code",
      "source": [
        "#Incidents by year - get year, count frequency of years\n",
        "df['Year']=df['Datetime'].dt.year\n",
        "df['Month']=df['Datetime'].dt.month\n",
        "df['Day']=df['Datetime'].dt.day\n",
        "dfCOMP=df.drop(df[df['Year']==2023].index) #remove 2023 from the data as it's not finished\n",
        "year_count=dfCOMP['Year'].value_counts().reset_index()\n",
        "year_count.columns=['Year','Count']\n",
        "year_count=year_count.sort_values(by='Year',ascending=True)\n",
        "print(year_count.reset_index(drop=True))\n",
        "print(\"\\n\")\n",
        "month_count=dfCOMP['Month'].value_counts().reset_index()\n",
        "month_count.columns=['Month','Count']\n",
        "month_count=month_count.sort_values(by='Month',ascending=True)\n",
        "print(month_count.reset_index(drop=True))"
      ],
      "metadata": {
        "colab": {
          "base_uri": "https://localhost:8080/"
        },
        "id": "eR9GnSZWdzY5",
        "outputId": "73e6a212-b990-4ed7-c3a5-2bc1ad710208"
      },
      "execution_count": 77,
      "outputs": [
        {
          "output_type": "stream",
          "name": "stdout",
          "text": [
            "   Year  Count\n",
            "0  2018   7050\n",
            "1  2019   6682\n",
            "2  2020   6796\n",
            "3  2021   7321\n",
            "4  2022   8851\n",
            "\n",
            "\n",
            "    Month  Count\n",
            "0       1   3378\n",
            "1       2   2856\n",
            "2       3   3074\n",
            "3       4   3262\n",
            "4       5   2957\n",
            "5       6   2792\n",
            "6       7   3083\n",
            "7       8   2866\n",
            "8       9   2885\n",
            "9      10   3135\n",
            "10     11   3238\n",
            "11     12   3174\n"
          ]
        }
      ]
    },
    {
      "cell_type": "code",
      "source": [
        "df['Month Year']=df['Datetime'].dt.to_period('M')\n",
        "my_count=df['Month Year'].value_counts().reset_index()\n",
        "my_count.columns=['Month Year','Count']\n",
        "my_count=my_count.sort_values(by='Month Year',ascending=True).reset_index(drop=True)\n",
        "print(\"In Chronological Order:\")\n",
        "print(my_count)\n",
        "print(\"\\n\")\n",
        "print(\"In Descending Order of Incident Frequency:\")\n",
        "print(my_count.sort_values(by='Count',ascending=False))\n"
      ],
      "metadata": {
        "colab": {
          "base_uri": "https://localhost:8080/"
        },
        "id": "bIOeWnOhqgnG",
        "outputId": "8ce22616-d137-4de9-e47e-d41cad07864f"
      },
      "execution_count": 85,
      "outputs": [
        {
          "output_type": "stream",
          "name": "stdout",
          "text": [
            "In Chronological Order:\n",
            "   Month Year  Count\n",
            "0     2018-01    696\n",
            "1     2018-02    527\n",
            "2     2018-03    568\n",
            "3     2018-04    487\n",
            "4     2018-05    596\n",
            "..        ...    ...\n",
            "60    2023-01    706\n",
            "61    2023-02    640\n",
            "62    2023-03    757\n",
            "63    2023-04    676\n",
            "64    2023-05    677\n",
            "\n",
            "[65 rows x 2 columns]\n",
            "\n",
            "\n",
            "In Descending Order of Incident Frequency:\n",
            "   Month Year  Count\n",
            "27    2020-04    933\n",
            "48    2022-01    926\n",
            "46    2021-11    916\n",
            "47    2021-12    829\n",
            "57    2022-10    777\n",
            "..        ...    ...\n",
            "41    2021-06    499\n",
            "20    2019-09    491\n",
            "3     2018-04    487\n",
            "32    2020-09    432\n",
            "29    2020-06    384\n",
            "\n",
            "[65 rows x 2 columns]\n"
          ]
        }
      ]
    },
    {
      "cell_type": "code",
      "source": [
        "#Including 2023\n",
        "def timesplit(df):\n",
        "  year_count=df['Year'].value_counts().reset_index()\n",
        "  year_count.columns=['Year','Count']\n",
        "  year_count=year_count.sort_values(by='Year',ascending=True)\n",
        "  print(year_count.reset_index(drop=True))\n",
        "  print(\"\\n\")\n",
        "  month_count=df['Month'].value_counts().reset_index()\n",
        "  month_count.columns=['Month','Count']\n",
        "  month_count=month_count.sort_values(by='Month',ascending=True)\n",
        "  print(month_count.reset_index(drop=True))\n",
        "timesplit(df)"
      ],
      "metadata": {
        "colab": {
          "base_uri": "https://localhost:8080/"
        },
        "id": "HRr1rASBpbw3",
        "outputId": "4d00b817-c3ed-4791-f2fb-7c2008c4d15d"
      },
      "execution_count": 112,
      "outputs": [
        {
          "output_type": "stream",
          "name": "stdout",
          "text": [
            "   Year  Count\n",
            "0  2018   7050\n",
            "1  2019   6682\n",
            "2  2020   6796\n",
            "3  2021   7321\n",
            "4  2022   8851\n",
            "5  2023   3456\n",
            "\n",
            "\n",
            "    Month  Count\n",
            "0       1   4084\n",
            "1       2   3496\n",
            "2       3   3831\n",
            "3       4   3938\n",
            "4       5   3634\n",
            "5       6   2792\n",
            "6       7   3083\n",
            "7       8   2866\n",
            "8       9   2885\n",
            "9      10   3135\n",
            "10     11   3238\n",
            "11     12   3174\n"
          ]
        }
      ]
    },
    {
      "cell_type": "code",
      "source": [
        "#Plotting delays by year excluding 2023\n",
        "def yearplt(df,title):\n",
        "  year_count=df['Year'].value_counts().reset_index()\n",
        "  year_count.columns=['Year','Count']\n",
        "  year_count=year_count.sort_values(by='Year',ascending=True)\n",
        "  year_count=year_count.drop(year_count[year_count['Year']==2023].index)\n",
        "  plt.plot(year_count['Year'],year_count['Count'])\n",
        "  plt.xlabel('Year')\n",
        "  plt.ylabel('Delays')\n",
        "  plt.title(title)\n",
        "  plt.show()\n",
        "yearplt(df,'Incidents per Year')"
      ],
      "metadata": {
        "colab": {
          "base_uri": "https://localhost:8080/",
          "height": 472
        },
        "id": "wh-jObuSnrYa",
        "outputId": "c2409053-4b53-4357-fd03-453d2254fbba"
      },
      "execution_count": 121,
      "outputs": [
        {
          "output_type": "display_data",
          "data": {
            "text/plain": [
              "<Figure size 640x480 with 1 Axes>"
            ],
            "image/png": "[encoded data removed]"
          },
          "metadata": {}
        }
      ]
    },
    {
      "cell_type": "code",
      "source": [
        "#Filtering for S crime\n",
        "df_sus=df[df['Code'].str.startswith('S')]\n",
        "timesplit(df_sus)\n",
        "yearplt(df_sus, 'S incidents per Year')"
      ],
      "metadata": {
        "colab": {
          "base_uri": "https://localhost:8080/",
          "height": 854
        },
        "id": "tQv4vP0xxlhc",
        "outputId": "9fa72126-c4b5-4bed-e2ed-1641427cf51f"
      },
      "execution_count": 122,
      "outputs": [
        {
          "output_type": "stream",
          "name": "stdout",
          "text": [
            "   Year  Count\n",
            "0  2018   1211\n",
            "1  2019   1210\n",
            "2  2020   1407\n",
            "3  2021   1894\n",
            "4  2022   2259\n",
            "5  2023   1187\n",
            "\n",
            "\n",
            "    Month  Count\n",
            "0       1    947\n",
            "1       2    854\n",
            "2       3   1085\n",
            "3       4    933\n",
            "4       5    848\n",
            "5       6    597\n",
            "6       7    580\n",
            "7       8    552\n",
            "8       9    569\n",
            "9      10    670\n",
            "10     11    678\n",
            "11     12    855\n"
          ]
        },
        {
          "output_type": "display_data",
          "data": {
            "text/plain": [
              "<Figure size 640x480 with 1 Axes>"
            ],
            "image/png": "[encoded data removed]"
          },
          "metadata": {}
        }
      ]
    },
    {
      "cell_type": "code",
      "source": [
        "stationdelays(df_sus,'Top 10 Stations with Most Delays due to S events')"
      ],
      "metadata": {
        "colab": {
          "base_uri": "https://localhost:8080/",
          "height": 646
        },
        "id": "RfshygfxzUob",
        "outputId": "75d3250d-a35e-4d96-a9ca-67806edb668d"
      },
      "execution_count": 127,
      "outputs": [
        {
          "output_type": "display_data",
          "data": {
            "text/plain": [
              "<Figure size 640x480 with 1 Axes>"
            ],
            "image/png": "[encoded data removed]"
          },
          "metadata": {}
        }
      ]
    }
  ]
}